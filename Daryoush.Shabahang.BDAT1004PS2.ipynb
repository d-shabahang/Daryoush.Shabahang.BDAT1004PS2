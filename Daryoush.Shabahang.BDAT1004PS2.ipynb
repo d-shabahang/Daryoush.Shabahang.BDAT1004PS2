{
 "cells": [
  {
   "cell_type": "markdown",
   "id": "80fd3ed7",
   "metadata": {},
   "source": [
    "<center><h2><font color='#004b87'>Problem Set #2 (BDAT 1004)</font></h2></center>\n",
    "<p></p>\n",
    "<center><h3><font color='#004b87'>By Daryoush Shabahang</font></h3></center>\n",
    "<p></p>\n",
    "<center><h3><font color='#004b87'>July 8, 2021</font></h3></center>\n",
    "<p></p>"
   ]
  },
  {
   "cell_type": "markdown",
   "id": "76f348db",
   "metadata": {},
   "source": [
    "<h2><font color='#004b87'>Question 1 Python</font></h2>\n",
    "<p></p>\n",
    "<li>Consider the following Python module:</li>\n",
    "<p>a = 0</p>\n",
    "\n",
    "<p>def b():</p>\n",
    "<li>global a</li>\n",
    "<li>a = c(a)</li>\n",
    "\n",
    "<p>def c(a):</p>\n",
    "<li>return a + 2</li>\n",
    "\n",
    "<p>After importing the module into the interpreter, you execute:</p>\n",
    "\n",
    "<p>>>> b()</p>\n",
    "<li>>>> b()</li>\n",
    "<li>>>> b()</li>\n",
    "<li>>>> a</li>\n",
    "<li>?</li>\n",
    "\n",
    "<p>What value is displayed when the last expression (a) is evaluated? Explain your answer by indicating what happens in every executed statement.</p>\n",
    "\n",
    "<p><b>MY ANSWER:</b></p>\n",
    "<li>In this scenario, a is defined as a global variable, then function b is making changes to it by calling function c to add 2 each time a is interpreted. For example, the value starts at 0, then after the first time a = 2, then the second time a = 4 and finally, the third time a = 6.</li>\n",
    "<li>Therefore, the final value evaluated will be 6 since function b is called three times.</li>"
   ]
  },
  {
   "cell_type": "markdown",
   "id": "6af2e806",
   "metadata": {},
   "source": [
    "<h2><font color='#004b87'>Question 2 Python</font></h2>\n",
    "<p></p>\n",
    "<li>Function fileLength(), given to you, takes the name of a file as input and returns the length of the file:</li>\n",
    "\n",
    "<p>>>> fileLength('midterm.py')</p>\n",
    "<li>284</li>\n",
    "<li>>>> fileLength('idterm.py')</li>\n",
    "<li>Traceback (most recent call last):</li>\n",
    "<li>    File \"pyshell#34>\", line 1, in module></li>\n",
    "<li>        fileLength('idterm.py')</li>\n",
    "<li>    File \"/Users/me/midterm.py\", line 3, in fileLength infile = open(filename)</li>\n",
    "<li>FileNotFoundError: [Errno 2] No such file or directory: 'idterm.py'</li>\n",
    "\n",
    "<p>As shown above, if the file cannot be found by the interpreter or if it cannot be read as a text file, an exception will be raised. Modify function fileLength() so that a friendly message is printed instead:</p>\n",
    "\n",
    "<p>>>> fileLength('midterm.py')</p>\n",
    "<li>358</li>\n",
    "<li>>>> fileLength('idterm.py')</li>\n",
    "<li>File idterm.py not found.</li>"
   ]
  },
  {
   "cell_type": "code",
   "execution_count": 88,
   "id": "f23f6969",
   "metadata": {},
   "outputs": [
    {
     "name": "stdout",
     "output_type": "stream",
     "text": [
      "File idterm.py not found\n"
     ]
    }
   ],
   "source": [
    "def fileLength(filename):\n",
    "    # try to open the file\n",
    "    try:\n",
    "        file = open(filename)\n",
    "        contents = file.read()\n",
    "        print(len(contents))\n",
    "        file.close()\n",
    "    \n",
    "    # otherwise, this text is printed if the file name is incorrect or file is not found\n",
    "    except FileNotFoundError:\n",
    "        print(\"File\", filename, \"not found\")\n",
    "\n",
    "fileLength(\"idterm.py\")"
   ]
  },
  {
   "cell_type": "markdown",
   "id": "fb7a9344",
   "metadata": {},
   "source": [
    "<h2><font color='#004b87'>Question 3 Python</font></h2>\n",
    "<p></p>\n",
    "<li>Write a class named Marsupial that can be used as shown below:</li>\n",
    "\n",
    "<p>>>> m = Marsupial())</p>\n",
    "<li>>>> m.put_in_pouch('doll')</li>\n",
    "<li>>>> m.put_in_pouch('firetruck')</li>\n",
    "<li>>>> m.put_in_pouch('kitten')</li>\n",
    "<li>>>> m.pouch_contents()</li>\n",
    "<li>['doll', 'firetruck', 'kitten']</li>\n",
    "\n",
    "<p>Now write a class named Kangaroo as a subclass of Marsupial that inherits all the attributes of Marsupial and also:</p>\n",
    "<li>a. extends the Marsupial __init__ constructor to take, as input, the coordinates x and y of the Kangaroo object,</li>\n",
    "<li>b. supports method jump that takes number values dx and dy as input and moves the kangaroo by dx units along the x-axis and by dy units along the y-axis, and</li>\n",
    "<li>c. overloads the __str__ operator so it behaves as shown below.</li>\n",
    "\n",
    "<p>>>> k = Kangaroo(0,0)</p>\n",
    "<li>>>> print(k)</li>\n",
    "<li>I am a Kangaroo located at coordinates (0,0)</li>\n",
    "<li>>>> k.put_in_pouch('doll')</li>\n",
    "<li>>>> k.put_in_pouch('firetruck')</li>\n",
    "<li>>>> k.put_in_pouch('kitten')</li>\n",
    "<li>>>> k.pouch_contents()</li>\n",
    "<li>['doll', 'firetruck', 'kitten']</li>\n",
    "<li>>>> k.jump(1,0)</li>\n",
    "<li>>>> k.jump(1,0)</li>\n",
    "<li>>>> k.jump(1,0)</li>\n",
    "<li>>>> print(k)</li>\n",
    "<li>I am a Kangaroo located at coordinates (3,0)</li>"
   ]
  },
  {
   "cell_type": "code",
   "execution_count": 89,
   "id": "56080da1",
   "metadata": {},
   "outputs": [
    {
     "name": "stdout",
     "output_type": "stream",
     "text": [
      "I am a Kangaroo located at coordinates (0,0)\n",
      "I am a Kangaroo located at coordinates (3,0)\n"
     ]
    }
   ],
   "source": [
    "class Marsupial:\n",
    "    # initialize the class to be an empty list\n",
    "    def __init__(self):\n",
    "        self.q = []\n",
    "    \n",
    "    # append items to the same list\n",
    "    def put_in_pouch(self, item):\n",
    "        self.q.append(item)\n",
    "\n",
    "    # return the contents of the same list\n",
    "    def pouch_contents(self):\n",
    "        return self.q\n",
    "\n",
    "m = Marsupial()\n",
    "m.put_in_pouch(\"doll\")\n",
    "m.put_in_pouch(\"firetruck\")\n",
    "m.put_in_pouch(\"kitten\")\n",
    "m.pouch_contents()\n",
    "\n",
    "class Kangaroo(Marsupial):\n",
    "    def __init__(self, x_coordinate, y_coordinate):\n",
    "        Marsupial.__init__(self)\n",
    "        self.x_coordinate = x_coordinate\n",
    "        self.y_coordinate = y_coordinate\n",
    "\n",
    "    def jump(self, dx, dy):\n",
    "        self.x_coordinate = self.x_coordinate + dx\n",
    "        self.y_coordinate = self.y_coordinate + dy\n",
    "\n",
    "    def __repr__(self):\n",
    "        return(\"I am a Kangaroo located at coordinates ({0},{1})\".format(self.x_coordinate, self.y_coordinate))\n",
    "\n",
    "k = Kangaroo(0,0)\n",
    "print(k)\n",
    "\n",
    "k.put_in_pouch(\"doll\")\n",
    "k.put_in_pouch(\"firetruck\")\n",
    "k.put_in_pouch(\"kitten\")\n",
    "k.pouch_contents()\n",
    "\n",
    "k.jump(1,0)\n",
    "k.jump(1,0)\n",
    "k.jump(1,0)\n",
    "print(k)"
   ]
  },
  {
   "cell_type": "markdown",
   "id": "29633855",
   "metadata": {},
   "source": [
    "<h2><font color='#004b87'>Question 4 Python</font></h2>\n",
    "<p></p>\n",
    "<li>Write function collatz() that takes a positive integer x as input and prints the Collatz sequence starting at x. A Collatz sequence is obtained by repeatedly applying this rule to the previous number x in the sequence:</li>\n",
    "\n",
    "<p>x = { 𝑥/2    𝑖𝑓 𝑥 𝑖𝑠 𝑒𝑣𝑒𝑛</p>\n",
    "<li>     3𝑥 + 1 𝑖𝑓 𝑥 𝑖𝑠 𝑜𝑑𝑑</li>\n",
    "\n",
    "<p>Your function should stop when the sequence gets to number 1. Your implementation must be recursive, without any loops.</p>\n",
    "\n",
    "<p>>>> collatz(1)</p>\n",
    "<li>1</li>\n",
    "<li>>>> collatz(10)</li>\n",
    "<li>10</li>\n",
    "<li>5</li>\n",
    "<li>16</li>\n",
    "<li>8</li>\n",
    "<li>4</li>\n",
    "<li>2</li>\n",
    "<li>1</li>"
   ]
  },
  {
   "cell_type": "code",
   "execution_count": 90,
   "id": "9d975899",
   "metadata": {},
   "outputs": [
    {
     "name": "stdout",
     "output_type": "stream",
     "text": [
      "10\n",
      "5\n",
      "16\n",
      "8\n",
      "4\n",
      "2\n",
      "1\n"
     ]
    }
   ],
   "source": [
    "def collatz(x):\n",
    "    # this will check if x is a positive integer (i.e. greater than 1 or not)\n",
    "    if(x) > 1:\n",
    "        # this will round the number to ensure there aren't any decimals in the output\n",
    "        print(round(x))\n",
    "        # if x is even, then the number will be divided by 2\n",
    "        # and result will be stored in x, then calling the collatz function again\n",
    "        if x % 2 == 0:\n",
    "            x /= 2\n",
    "            collatz(x)\n",
    "        \n",
    "        # if x is odd, then the number will be multiplied by 3 + 1\n",
    "        # and result will be stored in x, then calling the collatz function again\n",
    "        else:\n",
    "            x = x * 3 + 1\n",
    "            collatz(x)\n",
    "    \n",
    "    # otherwise if x is 1 or less than 1, then the output is only 1.\n",
    "    else:\n",
    "        print(1)\n",
    "\n",
    "collatz(10)"
   ]
  },
  {
   "cell_type": "markdown",
   "id": "2cd5266a",
   "metadata": {},
   "source": [
    "<h2><font color='#004b87'>Question 5 Python</font></h2>\n",
    "<p></p>\n",
    "<li>Write a recursive method binary() that takes a non-negative integer n and prints the binary representation of integer n.</li>\n",
    "\n",
    "<p>>>> binary(0)</p>\n",
    "<li>0</li>\n",
    "<li>>>> binary(1)</li>\n",
    "<li>1</li>\n",
    "<li>>>> binary(3)</li>\n",
    "<li>11</li>\n",
    "<li>>>> binary(9)</li>\n",
    "<li>1001</li>"
   ]
  },
  {
   "cell_type": "code",
   "execution_count": 91,
   "id": "f4a3f0aa",
   "metadata": {},
   "outputs": [
    {
     "name": "stdout",
     "output_type": "stream",
     "text": [
      "1001"
     ]
    }
   ],
   "source": [
    "def binary(n):\n",
    "    # if the value is less than 0, there will be an error\n",
    "    try:\n",
    "        if n < 0:\n",
    "            raise ValueError(n)\n",
    "        \n",
    "        # otherwise, the output will print\n",
    "        elif n > 1:\n",
    "            binary(n // 2)\n",
    "        print(n % 2,end = '')\n",
    "\n",
    "    except ValueError:\n",
    "        print(\"Only a non-negative number is permitted, please try again\")\n",
    "\n",
    "binary(9)"
   ]
  },
  {
   "cell_type": "markdown",
   "id": "29a2e4b5",
   "metadata": {},
   "source": [
    "<h2><font color='#004b87'>Question 6 Python</font></h2>\n",
    "<p></p>\n",
    "<li>Implement a class named HeadingParser that can be used to parse an HTML document, and retrieve and print all the headings in the document. You should implement your class as a subclass of HTMLParser, defined in Standard Library module html.parser.</li>\n",
    "\n",
    "<p>When fed a string containing HTML code, your class should print the headings, one per line and in the order in which they appear in the document.</p>\n",
    "\n",
    "<p>Each heading should be indented as follows:</p>\n",
    "<li>an h1 heading should have indentation 0, and h2 heading should have indentation 1, etc.</li>\n",
    "<li>Test your implementation using w3c.html.</li>\n",
    "\n",
    "<p>>>> infile = open('w3c.html')</p>\n",
    "<li>>>> content = infile.read()</li>\n",
    "<li>>>> infile.close()</li>\n",
    "<li>>>> hp = HeadingParser()</li>\n",
    "<li>>>> binary(3)</li>\n",
    "<li>>>> hp.feed(content)</li>\n",
    "<li>W3C Mission</li>\n",
    "<li>  Principles</li>"
   ]
  },
  {
   "cell_type": "code",
   "execution_count": 92,
   "id": "9035e58f",
   "metadata": {},
   "outputs": [
    {
     "name": "stdout",
     "output_type": "stream",
     "text": [
      "W3C Mission\n",
      " Principles\n"
     ]
    }
   ],
   "source": [
    "from html.parser import HTMLParser\n",
    "\n",
    "class HeadingParser(HTMLParser):\n",
    "\n",
    "    # initially an evaluation of each heading\n",
    "    h1_check_val = False\n",
    "    h2_check_val = False\n",
    "    h3_check_val = False\n",
    "    h4_check_val = False\n",
    "    h5_check_val = False\n",
    "    h6_check_val = False\n",
    "\n",
    "    def handle_starttag(self, tag, attrs):\n",
    "        if tag == \"h1\":\n",
    "            self.h1_check_val = True\n",
    "        if tag == \"h2\":\n",
    "            self.h2_check_val = True\n",
    "        if tag == \"h3\":\n",
    "            self.h3_check_val = True\n",
    "        if tag == \"h4\":\n",
    "            self.h4_check_val = True\n",
    "        if tag == \"h5\":\n",
    "            self.h5_check_val = True\n",
    "        if tag == \"h6\":\n",
    "            self.h6_check_val = True\n",
    "    \n",
    "    # depending on the type of heading used, a tab with whitespace is added except for H1\n",
    "    def handle_data(self, data):\n",
    "        if(self.h1_check_val):\n",
    "            print(data)\n",
    "            self.h1_check_val = False\n",
    "        \n",
    "        if(self.h2_check_val):\n",
    "            print(\"\\t\" * 2 + data)\n",
    "            self.h2_check_val = False\n",
    "        \n",
    "        if(self.h3_check_val):\n",
    "            print(\"\\t\" * 3 + data)\n",
    "            self.h3_check_val = False\n",
    "        \n",
    "        if(self.h4_check_val):\n",
    "            print(\"\\t\" * 4 + data)\n",
    "            self.h4_check_val = False\n",
    "\n",
    "        if(self.h5_check_val):\n",
    "            print(\"\\t\" * 5 + data)\n",
    "            self.h5_check_val = False\n",
    "\n",
    "        if(self.h6_check_val):\n",
    "            print(\"\\t\" * 6 + data)\n",
    "            self.h6_check_val = False\n",
    "\n",
    "infile = open(\"w3c.html\")\n",
    "content = infile.read()\n",
    "infile.close()\n",
    "\n",
    "headingParser = HeadingParser()\n",
    "headingParser.feed(content)"
   ]
  },
  {
   "cell_type": "markdown",
   "id": "4e1eb063",
   "metadata": {},
   "source": [
    "<h2><font color='#004b87'>Question 7 Python</font></h2>\n",
    "<p></p>\n",
    "<li>Implement recursive function webdir() that takes as input:</li>\n",
    "<li>a URL (as a string) and non-negative integers depth and indent.</li>\n",
    "\n",
    "<p>Your function should visit every web page reachable from the starting URL web page in depth clicks or less, and print each web page's URL.</p>\n",
    "\n",
    "<p>As shown below, indentation, specified by indent, should be used to indicate the depth of a URL.</p>\n",
    "\n",
    "<p>>>></p>\n",
    "<li>webdir('http://reed.cs.depaul.edu/lperkovic/csc242/test1.html', 2, 0)</li>\n",
    "<li>http://reed.cs.depaul.edu/lperkovic/csc242/test1.html</li>\n",
    "<li>http://reed.cs.depaul.edu/lperkovic/csc242/test2.html</li>\n",
    "<li>http://reed.cs.depaul.edu/lperkovic/csc242/test4.html</li>\n",
    "<li>http://reed.cs.depaul.edu/lperkovic/csc242/test3.html</li>\n",
    "<li>http://reed.cs.depaul.edu/lperkovic/csc242/test4.html:</li>"
   ]
  },
  {
   "cell_type": "code",
   "execution_count": 93,
   "id": "1887e67f",
   "metadata": {},
   "outputs": [
    {
     "name": "stdout",
     "output_type": "stream",
     "text": [
      " http://reed.cs.depaul.edu/lperkovic/two.html\n",
      " http://reed.cs.depaul.edu/lperkovic/three.html\n"
     ]
    }
   ],
   "source": [
    "from urllib.request import urlopen\n",
    "from urllib.parse import urljoin\n",
    "from html.parser import HTMLParser\n",
    "\n",
    "class Collector(HTMLParser):\n",
    "\n",
    "    def __init__(self, url):\n",
    "        HTMLParser.__init__(self)\n",
    "        self.url = url\n",
    "        self.links = []\n",
    "    \n",
    "    def handle_starttag(self, tag, attrs):\n",
    "        if tag == \"a\":\n",
    "            for attr in attrs:\n",
    "                if attr[0] == \"href\":\n",
    "                    absolute = urljoin(self.url, attr[1])\n",
    "                    if absolute[:4] == \"http\": \n",
    "                        self.links.append(absolute)\n",
    "    \n",
    "    def getLinks(self):\n",
    "        return self.links\n",
    "\n",
    "visited = set()\n",
    "\n",
    "def webdir(url, depth, indent):\n",
    "    global visited     \n",
    "    visited.add(url) \n",
    "    links = analyze(url)\n",
    "    for link in links:\n",
    "        if link not in visited:\n",
    "            try:\n",
    "                print('',link)\n",
    "            except:\n",
    "                print(link)\n",
    "\n",
    "webdir(\"http://reed.cs.depaul.edu/lperkovic/one.html\", 2, 0)"
   ]
  },
  {
   "cell_type": "markdown",
   "id": "12bd437e",
   "metadata": {},
   "source": [
    "<h2><font color='#004b87'>Question 8 SQL</font></h2>\n",
    "<p></p>\n",
    "<li>Write SQL queries on the below database table that return:</li>\n",
    "\n",
    "<p>a) All the temperature data.</p>\n",
    "<li>b) All the cities, but without repetition.</li>\n",
    "<li>c) All the records for India.</li>\n",
    "<li>d) All the Fall records.</li>\n",
    "<li>e) The city, country, and season for which the average rainfall is between 200 and 400 millimeters.</li>\n",
    "<li>f) The city and country for which the average Fall temperature is above 20 degrees, in increasing temperature order.</li>\n",
    "<li>g) The total annual rainfall for Cairo.</li>\n",
    "<li>h) The total rainfall for each season.</li>"
   ]
  },
  {
   "cell_type": "markdown",
   "id": "32373e45",
   "metadata": {},
   "source": [
    "<li>I am first creating the table and displaying it since the table doesn't yet exist. Then I will answer each question.</li>\n",
    "<li>I learned how to connect SQL with Jupyter Notebook by using these two resources:</li>\n",
    "\n",
    "<p>https://www.datacamp.com/community/tutorials/sql-interface-within-jupyterlab</p>\n",
    "<li>https://towardsdatascience.com/how-to-run-sql-queries-from-a-jupyter-notebook-aaa18e59e7bc</li>"
   ]
  },
  {
   "cell_type": "code",
   "execution_count": 4,
   "id": "0e5a3295",
   "metadata": {},
   "outputs": [
    {
     "name": "stdout",
     "output_type": "stream",
     "text": [
      " * sqlite://\n",
      "Done.\n",
      "12 rows affected.\n"
     ]
    },
    {
     "ename": "ResourceClosedError",
     "evalue": "This result object does not return rows. It has been closed automatically.",
     "output_type": "error",
     "traceback": [
      "\u001b[1;31m---------------------------------------------------------------------------\u001b[0m",
      "\u001b[1;31mResourceClosedError\u001b[0m                       Traceback (most recent call last)",
      "\u001b[1;32m<ipython-input-4-9f4b72d7b715>\u001b[0m in \u001b[0;36m<module>\u001b[1;34m\u001b[0m\n\u001b[1;32m----> 1\u001b[1;33m \u001b[0mget_ipython\u001b[0m\u001b[1;33m(\u001b[0m\u001b[1;33m)\u001b[0m\u001b[1;33m.\u001b[0m\u001b[0mrun_cell_magic\u001b[0m\u001b[1;33m(\u001b[0m\u001b[1;34m'sql'\u001b[0m\u001b[1;33m,\u001b[0m \u001b[1;34m''\u001b[0m\u001b[1;33m,\u001b[0m \u001b[1;34m\"CREATE TABLE various_cities\\n(\\n    City        varchar(25),\\n    Country     varchar(25),\\n    Season      varchar(10),\\n    Temperature float,\\n    Rainfall    float\\n);\\n\\nINSERT INTO various_cities\\nVALUES ('Mumbai', 'India', 'Winter', 24.8, 5.9),\\n       ('Mumbai', 'India', 'Spring', 28.4, 16.2),\\n       ('Mumbai', 'India', 'Summer', 27.9, 1549.4),\\n       ('Mumbai', 'India', 'Fall', 27.6, 346.0),\\n       ('London', 'United Kingdom', 'Winter', 4.2, 207.7),\\n       ('London', 'United Kingdom', 'Spring', 8.3, 169.6),\\n       ('London', 'United Kingdom', 'Summer', 15.7, 157.0),\\n       ('London', 'United Kingdom', 'Fall', 10.4, 218.5),\\n       ('Cairo', 'Egypt', 'Winter', 13.6, 16.5),\\n       ('Cairo', 'Egypt', 'Spring', 20.7, 6.5),\\n       ('Cairo', 'Egypt', 'Summer', 27.7, 0.1),\\n       ('Cairo', 'Egypt', 'Fall', 22.2, 4.5);\\n\"\u001b[0m\u001b[1;33m)\u001b[0m\u001b[1;33m\u001b[0m\u001b[1;33m\u001b[0m\u001b[0m\n\u001b[0m",
      "\u001b[1;32m~\\anaconda3\\lib\\site-packages\\IPython\\core\\interactiveshell.py\u001b[0m in \u001b[0;36mrun_cell_magic\u001b[1;34m(self, magic_name, line, cell)\u001b[0m\n\u001b[0;32m   2397\u001b[0m             \u001b[1;32mwith\u001b[0m \u001b[0mself\u001b[0m\u001b[1;33m.\u001b[0m\u001b[0mbuiltin_trap\u001b[0m\u001b[1;33m:\u001b[0m\u001b[1;33m\u001b[0m\u001b[1;33m\u001b[0m\u001b[0m\n\u001b[0;32m   2398\u001b[0m                 \u001b[0margs\u001b[0m \u001b[1;33m=\u001b[0m \u001b[1;33m(\u001b[0m\u001b[0mmagic_arg_s\u001b[0m\u001b[1;33m,\u001b[0m \u001b[0mcell\u001b[0m\u001b[1;33m)\u001b[0m\u001b[1;33m\u001b[0m\u001b[1;33m\u001b[0m\u001b[0m\n\u001b[1;32m-> 2399\u001b[1;33m                 \u001b[0mresult\u001b[0m \u001b[1;33m=\u001b[0m \u001b[0mfn\u001b[0m\u001b[1;33m(\u001b[0m\u001b[1;33m*\u001b[0m\u001b[0margs\u001b[0m\u001b[1;33m,\u001b[0m \u001b[1;33m**\u001b[0m\u001b[0mkwargs\u001b[0m\u001b[1;33m)\u001b[0m\u001b[1;33m\u001b[0m\u001b[1;33m\u001b[0m\u001b[0m\n\u001b[0m\u001b[0;32m   2400\u001b[0m             \u001b[1;32mreturn\u001b[0m \u001b[0mresult\u001b[0m\u001b[1;33m\u001b[0m\u001b[1;33m\u001b[0m\u001b[0m\n\u001b[0;32m   2401\u001b[0m \u001b[1;33m\u001b[0m\u001b[0m\n",
      "\u001b[1;32m~\\anaconda3\\lib\\site-packages\\decorator.py\u001b[0m in \u001b[0;36mfun\u001b[1;34m(*args, **kw)\u001b[0m\n\u001b[0;32m    229\u001b[0m             \u001b[1;32mif\u001b[0m \u001b[1;32mnot\u001b[0m \u001b[0mkwsyntax\u001b[0m\u001b[1;33m:\u001b[0m\u001b[1;33m\u001b[0m\u001b[1;33m\u001b[0m\u001b[0m\n\u001b[0;32m    230\u001b[0m                 \u001b[0margs\u001b[0m\u001b[1;33m,\u001b[0m \u001b[0mkw\u001b[0m \u001b[1;33m=\u001b[0m \u001b[0mfix\u001b[0m\u001b[1;33m(\u001b[0m\u001b[0margs\u001b[0m\u001b[1;33m,\u001b[0m \u001b[0mkw\u001b[0m\u001b[1;33m,\u001b[0m \u001b[0msig\u001b[0m\u001b[1;33m)\u001b[0m\u001b[1;33m\u001b[0m\u001b[1;33m\u001b[0m\u001b[0m\n\u001b[1;32m--> 231\u001b[1;33m             \u001b[1;32mreturn\u001b[0m \u001b[0mcaller\u001b[0m\u001b[1;33m(\u001b[0m\u001b[0mfunc\u001b[0m\u001b[1;33m,\u001b[0m \u001b[1;33m*\u001b[0m\u001b[1;33m(\u001b[0m\u001b[0mextras\u001b[0m \u001b[1;33m+\u001b[0m \u001b[0margs\u001b[0m\u001b[1;33m)\u001b[0m\u001b[1;33m,\u001b[0m \u001b[1;33m**\u001b[0m\u001b[0mkw\u001b[0m\u001b[1;33m)\u001b[0m\u001b[1;33m\u001b[0m\u001b[1;33m\u001b[0m\u001b[0m\n\u001b[0m\u001b[0;32m    232\u001b[0m     \u001b[0mfun\u001b[0m\u001b[1;33m.\u001b[0m\u001b[0m__name__\u001b[0m \u001b[1;33m=\u001b[0m \u001b[0mfunc\u001b[0m\u001b[1;33m.\u001b[0m\u001b[0m__name__\u001b[0m\u001b[1;33m\u001b[0m\u001b[1;33m\u001b[0m\u001b[0m\n\u001b[0;32m    233\u001b[0m     \u001b[0mfun\u001b[0m\u001b[1;33m.\u001b[0m\u001b[0m__doc__\u001b[0m \u001b[1;33m=\u001b[0m \u001b[0mfunc\u001b[0m\u001b[1;33m.\u001b[0m\u001b[0m__doc__\u001b[0m\u001b[1;33m\u001b[0m\u001b[1;33m\u001b[0m\u001b[0m\n",
      "\u001b[1;32m~\\anaconda3\\lib\\site-packages\\IPython\\core\\magic.py\u001b[0m in \u001b[0;36m<lambda>\u001b[1;34m(f, *a, **k)\u001b[0m\n\u001b[0;32m    185\u001b[0m     \u001b[1;31m# but it's overkill for just that one bit of state.\u001b[0m\u001b[1;33m\u001b[0m\u001b[1;33m\u001b[0m\u001b[1;33m\u001b[0m\u001b[0m\n\u001b[0;32m    186\u001b[0m     \u001b[1;32mdef\u001b[0m \u001b[0mmagic_deco\u001b[0m\u001b[1;33m(\u001b[0m\u001b[0marg\u001b[0m\u001b[1;33m)\u001b[0m\u001b[1;33m:\u001b[0m\u001b[1;33m\u001b[0m\u001b[1;33m\u001b[0m\u001b[0m\n\u001b[1;32m--> 187\u001b[1;33m         \u001b[0mcall\u001b[0m \u001b[1;33m=\u001b[0m \u001b[1;32mlambda\u001b[0m \u001b[0mf\u001b[0m\u001b[1;33m,\u001b[0m \u001b[1;33m*\u001b[0m\u001b[0ma\u001b[0m\u001b[1;33m,\u001b[0m \u001b[1;33m**\u001b[0m\u001b[0mk\u001b[0m\u001b[1;33m:\u001b[0m \u001b[0mf\u001b[0m\u001b[1;33m(\u001b[0m\u001b[1;33m*\u001b[0m\u001b[0ma\u001b[0m\u001b[1;33m,\u001b[0m \u001b[1;33m**\u001b[0m\u001b[0mk\u001b[0m\u001b[1;33m)\u001b[0m\u001b[1;33m\u001b[0m\u001b[1;33m\u001b[0m\u001b[0m\n\u001b[0m\u001b[0;32m    188\u001b[0m \u001b[1;33m\u001b[0m\u001b[0m\n\u001b[0;32m    189\u001b[0m         \u001b[1;32mif\u001b[0m \u001b[0mcallable\u001b[0m\u001b[1;33m(\u001b[0m\u001b[0marg\u001b[0m\u001b[1;33m)\u001b[0m\u001b[1;33m:\u001b[0m\u001b[1;33m\u001b[0m\u001b[1;33m\u001b[0m\u001b[0m\n",
      "\u001b[1;32m~\\anaconda3\\lib\\site-packages\\decorator.py\u001b[0m in \u001b[0;36mfun\u001b[1;34m(*args, **kw)\u001b[0m\n\u001b[0;32m    229\u001b[0m             \u001b[1;32mif\u001b[0m \u001b[1;32mnot\u001b[0m \u001b[0mkwsyntax\u001b[0m\u001b[1;33m:\u001b[0m\u001b[1;33m\u001b[0m\u001b[1;33m\u001b[0m\u001b[0m\n\u001b[0;32m    230\u001b[0m                 \u001b[0margs\u001b[0m\u001b[1;33m,\u001b[0m \u001b[0mkw\u001b[0m \u001b[1;33m=\u001b[0m \u001b[0mfix\u001b[0m\u001b[1;33m(\u001b[0m\u001b[0margs\u001b[0m\u001b[1;33m,\u001b[0m \u001b[0mkw\u001b[0m\u001b[1;33m,\u001b[0m \u001b[0msig\u001b[0m\u001b[1;33m)\u001b[0m\u001b[1;33m\u001b[0m\u001b[1;33m\u001b[0m\u001b[0m\n\u001b[1;32m--> 231\u001b[1;33m             \u001b[1;32mreturn\u001b[0m \u001b[0mcaller\u001b[0m\u001b[1;33m(\u001b[0m\u001b[0mfunc\u001b[0m\u001b[1;33m,\u001b[0m \u001b[1;33m*\u001b[0m\u001b[1;33m(\u001b[0m\u001b[0mextras\u001b[0m \u001b[1;33m+\u001b[0m \u001b[0margs\u001b[0m\u001b[1;33m)\u001b[0m\u001b[1;33m,\u001b[0m \u001b[1;33m**\u001b[0m\u001b[0mkw\u001b[0m\u001b[1;33m)\u001b[0m\u001b[1;33m\u001b[0m\u001b[1;33m\u001b[0m\u001b[0m\n\u001b[0m\u001b[0;32m    232\u001b[0m     \u001b[0mfun\u001b[0m\u001b[1;33m.\u001b[0m\u001b[0m__name__\u001b[0m \u001b[1;33m=\u001b[0m \u001b[0mfunc\u001b[0m\u001b[1;33m.\u001b[0m\u001b[0m__name__\u001b[0m\u001b[1;33m\u001b[0m\u001b[1;33m\u001b[0m\u001b[0m\n\u001b[0;32m    233\u001b[0m     \u001b[0mfun\u001b[0m\u001b[1;33m.\u001b[0m\u001b[0m__doc__\u001b[0m \u001b[1;33m=\u001b[0m \u001b[0mfunc\u001b[0m\u001b[1;33m.\u001b[0m\u001b[0m__doc__\u001b[0m\u001b[1;33m\u001b[0m\u001b[1;33m\u001b[0m\u001b[0m\n",
      "\u001b[1;32m~\\anaconda3\\lib\\site-packages\\IPython\\core\\magic.py\u001b[0m in \u001b[0;36m<lambda>\u001b[1;34m(f, *a, **k)\u001b[0m\n\u001b[0;32m    185\u001b[0m     \u001b[1;31m# but it's overkill for just that one bit of state.\u001b[0m\u001b[1;33m\u001b[0m\u001b[1;33m\u001b[0m\u001b[1;33m\u001b[0m\u001b[0m\n\u001b[0;32m    186\u001b[0m     \u001b[1;32mdef\u001b[0m \u001b[0mmagic_deco\u001b[0m\u001b[1;33m(\u001b[0m\u001b[0marg\u001b[0m\u001b[1;33m)\u001b[0m\u001b[1;33m:\u001b[0m\u001b[1;33m\u001b[0m\u001b[1;33m\u001b[0m\u001b[0m\n\u001b[1;32m--> 187\u001b[1;33m         \u001b[0mcall\u001b[0m \u001b[1;33m=\u001b[0m \u001b[1;32mlambda\u001b[0m \u001b[0mf\u001b[0m\u001b[1;33m,\u001b[0m \u001b[1;33m*\u001b[0m\u001b[0ma\u001b[0m\u001b[1;33m,\u001b[0m \u001b[1;33m**\u001b[0m\u001b[0mk\u001b[0m\u001b[1;33m:\u001b[0m \u001b[0mf\u001b[0m\u001b[1;33m(\u001b[0m\u001b[1;33m*\u001b[0m\u001b[0ma\u001b[0m\u001b[1;33m,\u001b[0m \u001b[1;33m**\u001b[0m\u001b[0mk\u001b[0m\u001b[1;33m)\u001b[0m\u001b[1;33m\u001b[0m\u001b[1;33m\u001b[0m\u001b[0m\n\u001b[0m\u001b[0;32m    188\u001b[0m \u001b[1;33m\u001b[0m\u001b[0m\n\u001b[0;32m    189\u001b[0m         \u001b[1;32mif\u001b[0m \u001b[0mcallable\u001b[0m\u001b[1;33m(\u001b[0m\u001b[0marg\u001b[0m\u001b[1;33m)\u001b[0m\u001b[1;33m:\u001b[0m\u001b[1;33m\u001b[0m\u001b[1;33m\u001b[0m\u001b[0m\n",
      "\u001b[1;32m~\\anaconda3\\lib\\site-packages\\sql\\magic.py\u001b[0m in \u001b[0;36mexecute\u001b[1;34m(self, line, cell, local_ns)\u001b[0m\n\u001b[0;32m    215\u001b[0m \u001b[1;33m\u001b[0m\u001b[0m\n\u001b[0;32m    216\u001b[0m         \u001b[1;32mtry\u001b[0m\u001b[1;33m:\u001b[0m\u001b[1;33m\u001b[0m\u001b[1;33m\u001b[0m\u001b[0m\n\u001b[1;32m--> 217\u001b[1;33m             \u001b[0mresult\u001b[0m \u001b[1;33m=\u001b[0m \u001b[0msql\u001b[0m\u001b[1;33m.\u001b[0m\u001b[0mrun\u001b[0m\u001b[1;33m.\u001b[0m\u001b[0mrun\u001b[0m\u001b[1;33m(\u001b[0m\u001b[0mconn\u001b[0m\u001b[1;33m,\u001b[0m \u001b[0mparsed\u001b[0m\u001b[1;33m[\u001b[0m\u001b[1;34m\"sql\"\u001b[0m\u001b[1;33m]\u001b[0m\u001b[1;33m,\u001b[0m \u001b[0mself\u001b[0m\u001b[1;33m,\u001b[0m \u001b[0muser_ns\u001b[0m\u001b[1;33m)\u001b[0m\u001b[1;33m\u001b[0m\u001b[1;33m\u001b[0m\u001b[0m\n\u001b[0m\u001b[0;32m    218\u001b[0m \u001b[1;33m\u001b[0m\u001b[0m\n\u001b[0;32m    219\u001b[0m             if (\n",
      "\u001b[1;32m~\\anaconda3\\lib\\site-packages\\sql\\run.py\u001b[0m in \u001b[0;36mrun\u001b[1;34m(conn, sql, config, user_namespace)\u001b[0m\n\u001b[0;32m    369\u001b[0m             \u001b[1;32mif\u001b[0m \u001b[0mresult\u001b[0m \u001b[1;32mand\u001b[0m \u001b[0mconfig\u001b[0m\u001b[1;33m.\u001b[0m\u001b[0mfeedback\u001b[0m\u001b[1;33m:\u001b[0m\u001b[1;33m\u001b[0m\u001b[1;33m\u001b[0m\u001b[0m\n\u001b[0;32m    370\u001b[0m                 \u001b[0mprint\u001b[0m\u001b[1;33m(\u001b[0m\u001b[0minterpret_rowcount\u001b[0m\u001b[1;33m(\u001b[0m\u001b[0mresult\u001b[0m\u001b[1;33m.\u001b[0m\u001b[0mrowcount\u001b[0m\u001b[1;33m)\u001b[0m\u001b[1;33m)\u001b[0m\u001b[1;33m\u001b[0m\u001b[1;33m\u001b[0m\u001b[0m\n\u001b[1;32m--> 371\u001b[1;33m         \u001b[0mresultset\u001b[0m \u001b[1;33m=\u001b[0m \u001b[0mResultSet\u001b[0m\u001b[1;33m(\u001b[0m\u001b[0mresult\u001b[0m\u001b[1;33m,\u001b[0m \u001b[0mstatement\u001b[0m\u001b[1;33m,\u001b[0m \u001b[0mconfig\u001b[0m\u001b[1;33m)\u001b[0m\u001b[1;33m\u001b[0m\u001b[1;33m\u001b[0m\u001b[0m\n\u001b[0m\u001b[0;32m    372\u001b[0m         \u001b[1;32mif\u001b[0m \u001b[0mconfig\u001b[0m\u001b[1;33m.\u001b[0m\u001b[0mautopandas\u001b[0m\u001b[1;33m:\u001b[0m\u001b[1;33m\u001b[0m\u001b[1;33m\u001b[0m\u001b[0m\n\u001b[0;32m    373\u001b[0m             \u001b[1;32mreturn\u001b[0m \u001b[0mresultset\u001b[0m\u001b[1;33m.\u001b[0m\u001b[0mDataFrame\u001b[0m\u001b[1;33m(\u001b[0m\u001b[1;33m)\u001b[0m\u001b[1;33m\u001b[0m\u001b[1;33m\u001b[0m\u001b[0m\n",
      "\u001b[1;32m~\\anaconda3\\lib\\site-packages\\sql\\run.py\u001b[0m in \u001b[0;36m__init__\u001b[1;34m(self, sqlaproxy, sql, config)\u001b[0m\n\u001b[0;32m    105\u001b[0m \u001b[1;33m\u001b[0m\u001b[0m\n\u001b[0;32m    106\u001b[0m     \u001b[1;32mdef\u001b[0m \u001b[0m__init__\u001b[0m\u001b[1;33m(\u001b[0m\u001b[0mself\u001b[0m\u001b[1;33m,\u001b[0m \u001b[0msqlaproxy\u001b[0m\u001b[1;33m,\u001b[0m \u001b[0msql\u001b[0m\u001b[1;33m,\u001b[0m \u001b[0mconfig\u001b[0m\u001b[1;33m)\u001b[0m\u001b[1;33m:\u001b[0m\u001b[1;33m\u001b[0m\u001b[1;33m\u001b[0m\u001b[0m\n\u001b[1;32m--> 107\u001b[1;33m         \u001b[0mself\u001b[0m\u001b[1;33m.\u001b[0m\u001b[0mkeys\u001b[0m \u001b[1;33m=\u001b[0m \u001b[0msqlaproxy\u001b[0m\u001b[1;33m.\u001b[0m\u001b[0mkeys\u001b[0m\u001b[1;33m(\u001b[0m\u001b[1;33m)\u001b[0m\u001b[1;33m\u001b[0m\u001b[1;33m\u001b[0m\u001b[0m\n\u001b[0m\u001b[0;32m    108\u001b[0m         \u001b[0mself\u001b[0m\u001b[1;33m.\u001b[0m\u001b[0msql\u001b[0m \u001b[1;33m=\u001b[0m \u001b[0msql\u001b[0m\u001b[1;33m\u001b[0m\u001b[1;33m\u001b[0m\u001b[0m\n\u001b[0;32m    109\u001b[0m         \u001b[0mself\u001b[0m\u001b[1;33m.\u001b[0m\u001b[0mconfig\u001b[0m \u001b[1;33m=\u001b[0m \u001b[0mconfig\u001b[0m\u001b[1;33m\u001b[0m\u001b[1;33m\u001b[0m\u001b[0m\n",
      "\u001b[1;32m~\\anaconda3\\lib\\site-packages\\sqlalchemy\\engine\\result.py\u001b[0m in \u001b[0;36mkeys\u001b[1;34m(self)\u001b[0m\n\u001b[0;32m    705\u001b[0m \u001b[1;33m\u001b[0m\u001b[0m\n\u001b[0;32m    706\u001b[0m         \"\"\"\n\u001b[1;32m--> 707\u001b[1;33m         \u001b[1;32mreturn\u001b[0m \u001b[0mself\u001b[0m\u001b[1;33m.\u001b[0m\u001b[0m_metadata\u001b[0m\u001b[1;33m.\u001b[0m\u001b[0mkeys\u001b[0m\u001b[1;33m\u001b[0m\u001b[1;33m\u001b[0m\u001b[0m\n\u001b[0m\u001b[0;32m    708\u001b[0m \u001b[1;33m\u001b[0m\u001b[0m\n\u001b[0;32m    709\u001b[0m \u001b[1;33m\u001b[0m\u001b[0m\n",
      "\u001b[1;32m~\\anaconda3\\lib\\site-packages\\sqlalchemy\\engine\\cursor.py\u001b[0m in \u001b[0;36mkeys\u001b[1;34m(self)\u001b[0m\n\u001b[0;32m   1199\u001b[0m     \u001b[1;33m@\u001b[0m\u001b[0mproperty\u001b[0m\u001b[1;33m\u001b[0m\u001b[1;33m\u001b[0m\u001b[0m\n\u001b[0;32m   1200\u001b[0m     \u001b[1;32mdef\u001b[0m \u001b[0mkeys\u001b[0m\u001b[1;33m(\u001b[0m\u001b[0mself\u001b[0m\u001b[1;33m)\u001b[0m\u001b[1;33m:\u001b[0m\u001b[1;33m\u001b[0m\u001b[1;33m\u001b[0m\u001b[0m\n\u001b[1;32m-> 1201\u001b[1;33m         \u001b[0mself\u001b[0m\u001b[1;33m.\u001b[0m\u001b[0m_we_dont_return_rows\u001b[0m\u001b[1;33m(\u001b[0m\u001b[1;33m)\u001b[0m\u001b[1;33m\u001b[0m\u001b[1;33m\u001b[0m\u001b[0m\n\u001b[0m\u001b[0;32m   1202\u001b[0m \u001b[1;33m\u001b[0m\u001b[0m\n\u001b[0;32m   1203\u001b[0m \u001b[1;33m\u001b[0m\u001b[0m\n",
      "\u001b[1;32m~\\anaconda3\\lib\\site-packages\\sqlalchemy\\engine\\cursor.py\u001b[0m in \u001b[0;36m_we_dont_return_rows\u001b[1;34m(self, err)\u001b[0m\n\u001b[0;32m   1176\u001b[0m \u001b[1;33m\u001b[0m\u001b[0m\n\u001b[0;32m   1177\u001b[0m     \u001b[1;32mdef\u001b[0m \u001b[0m_we_dont_return_rows\u001b[0m\u001b[1;33m(\u001b[0m\u001b[0mself\u001b[0m\u001b[1;33m,\u001b[0m \u001b[0merr\u001b[0m\u001b[1;33m=\u001b[0m\u001b[1;32mNone\u001b[0m\u001b[1;33m)\u001b[0m\u001b[1;33m:\u001b[0m\u001b[1;33m\u001b[0m\u001b[1;33m\u001b[0m\u001b[0m\n\u001b[1;32m-> 1178\u001b[1;33m         util.raise_(\n\u001b[0m\u001b[0;32m   1179\u001b[0m             exc.ResourceClosedError(\n\u001b[0;32m   1180\u001b[0m                 \u001b[1;34m\"This result object does not return rows. \"\u001b[0m\u001b[1;33m\u001b[0m\u001b[1;33m\u001b[0m\u001b[0m\n",
      "\u001b[1;32m~\\anaconda3\\lib\\site-packages\\sqlalchemy\\util\\compat.py\u001b[0m in \u001b[0;36mraise_\u001b[1;34m(***failed resolving arguments***)\u001b[0m\n\u001b[0;32m    209\u001b[0m \u001b[1;33m\u001b[0m\u001b[0m\n\u001b[0;32m    210\u001b[0m         \u001b[1;32mtry\u001b[0m\u001b[1;33m:\u001b[0m\u001b[1;33m\u001b[0m\u001b[1;33m\u001b[0m\u001b[0m\n\u001b[1;32m--> 211\u001b[1;33m             \u001b[1;32mraise\u001b[0m \u001b[0mexception\u001b[0m\u001b[1;33m\u001b[0m\u001b[1;33m\u001b[0m\u001b[0m\n\u001b[0m\u001b[0;32m    212\u001b[0m         \u001b[1;32mfinally\u001b[0m\u001b[1;33m:\u001b[0m\u001b[1;33m\u001b[0m\u001b[1;33m\u001b[0m\u001b[0m\n\u001b[0;32m    213\u001b[0m             \u001b[1;31m# credit to\u001b[0m\u001b[1;33m\u001b[0m\u001b[1;33m\u001b[0m\u001b[1;33m\u001b[0m\u001b[0m\n",
      "\u001b[1;31mResourceClosedError\u001b[0m: This result object does not return rows. It has been closed automatically."
     ]
    }
   ],
   "source": [
    "%%sql\n",
    "CREATE TABLE various_cities\n",
    "(\n",
    "    City        varchar(25),\n",
    "    Country     varchar(25),\n",
    "    Season      varchar(10),\n",
    "    Temperature float,\n",
    "    Rainfall    float\n",
    ");\n",
    "\n",
    "INSERT INTO various_cities\n",
    "VALUES ('Mumbai', 'India', 'Winter', 24.8, 5.9),\n",
    "       ('Mumbai', 'India', 'Spring', 28.4, 16.2),\n",
    "       ('Mumbai', 'India', 'Summer', 27.9, 1549.4),\n",
    "       ('Mumbai', 'India', 'Fall', 27.6, 346.0),\n",
    "       ('London', 'United Kingdom', 'Winter', 4.2, 207.7),\n",
    "       ('London', 'United Kingdom', 'Spring', 8.3, 169.6),\n",
    "       ('London', 'United Kingdom', 'Summer', 15.7, 157.0),\n",
    "       ('London', 'United Kingdom', 'Fall', 10.4, 218.5),\n",
    "       ('Cairo', 'Egypt', 'Winter', 13.6, 16.5),\n",
    "       ('Cairo', 'Egypt', 'Spring', 20.7, 6.5),\n",
    "       ('Cairo', 'Egypt', 'Summer', 27.7, 0.1),\n",
    "       ('Cairo', 'Egypt', 'Fall', 22.2, 4.5);"
   ]
  },
  {
   "cell_type": "markdown",
   "id": "c90d71d8",
   "metadata": {},
   "source": [
    "<li>I am displaying the entire table prior to answering each question.</li>"
   ]
  },
  {
   "cell_type": "code",
   "execution_count": 78,
   "id": "bf0dc130",
   "metadata": {},
   "outputs": [
    {
     "name": "stdout",
     "output_type": "stream",
     "text": [
      " * sqlite://\n",
      "Done.\n"
     ]
    },
    {
     "data": {
      "text/html": [
       "<table>\n",
       "    <tr>\n",
       "        <th>City</th>\n",
       "        <th>Country</th>\n",
       "        <th>Season</th>\n",
       "        <th>Temperature</th>\n",
       "        <th>Rainfall</th>\n",
       "    </tr>\n",
       "    <tr>\n",
       "        <td>Mumbai</td>\n",
       "        <td>India</td>\n",
       "        <td>Winter</td>\n",
       "        <td>24.8</td>\n",
       "        <td>5.9</td>\n",
       "    </tr>\n",
       "    <tr>\n",
       "        <td>Mumbai</td>\n",
       "        <td>India</td>\n",
       "        <td>Spring</td>\n",
       "        <td>28.4</td>\n",
       "        <td>16.2</td>\n",
       "    </tr>\n",
       "    <tr>\n",
       "        <td>Mumbai</td>\n",
       "        <td>India</td>\n",
       "        <td>Summer</td>\n",
       "        <td>27.9</td>\n",
       "        <td>1549.4</td>\n",
       "    </tr>\n",
       "    <tr>\n",
       "        <td>Mumbai</td>\n",
       "        <td>India</td>\n",
       "        <td>Fall</td>\n",
       "        <td>27.6</td>\n",
       "        <td>346.0</td>\n",
       "    </tr>\n",
       "    <tr>\n",
       "        <td>London</td>\n",
       "        <td>United Kingdom</td>\n",
       "        <td>Winter</td>\n",
       "        <td>4.2</td>\n",
       "        <td>207.7</td>\n",
       "    </tr>\n",
       "    <tr>\n",
       "        <td>London</td>\n",
       "        <td>United Kingdom</td>\n",
       "        <td>Spring</td>\n",
       "        <td>8.3</td>\n",
       "        <td>169.6</td>\n",
       "    </tr>\n",
       "    <tr>\n",
       "        <td>London</td>\n",
       "        <td>United Kingdom</td>\n",
       "        <td>Summer</td>\n",
       "        <td>15.7</td>\n",
       "        <td>157.0</td>\n",
       "    </tr>\n",
       "    <tr>\n",
       "        <td>London</td>\n",
       "        <td>United Kingdom</td>\n",
       "        <td>Fall</td>\n",
       "        <td>10.4</td>\n",
       "        <td>218.5</td>\n",
       "    </tr>\n",
       "    <tr>\n",
       "        <td>Cairo</td>\n",
       "        <td>Egypt</td>\n",
       "        <td>Winter</td>\n",
       "        <td>13.6</td>\n",
       "        <td>16.5</td>\n",
       "    </tr>\n",
       "    <tr>\n",
       "        <td>Cairo</td>\n",
       "        <td>Egypt</td>\n",
       "        <td>Spring</td>\n",
       "        <td>20.7</td>\n",
       "        <td>6.5</td>\n",
       "    </tr>\n",
       "    <tr>\n",
       "        <td>Cairo</td>\n",
       "        <td>Egypt</td>\n",
       "        <td>Summer</td>\n",
       "        <td>27.7</td>\n",
       "        <td>0.1</td>\n",
       "    </tr>\n",
       "    <tr>\n",
       "        <td>Cairo</td>\n",
       "        <td>Egypt</td>\n",
       "        <td>Fall</td>\n",
       "        <td>22.2</td>\n",
       "        <td>4.5</td>\n",
       "    </tr>\n",
       "</table>"
      ],
      "text/plain": [
       "[('Mumbai', 'India', 'Winter', 24.8, 5.9),\n",
       " ('Mumbai', 'India', 'Spring', 28.4, 16.2),\n",
       " ('Mumbai', 'India', 'Summer', 27.9, 1549.4),\n",
       " ('Mumbai', 'India', 'Fall', 27.6, 346.0),\n",
       " ('London', 'United Kingdom', 'Winter', 4.2, 207.7),\n",
       " ('London', 'United Kingdom', 'Spring', 8.3, 169.6),\n",
       " ('London', 'United Kingdom', 'Summer', 15.7, 157.0),\n",
       " ('London', 'United Kingdom', 'Fall', 10.4, 218.5),\n",
       " ('Cairo', 'Egypt', 'Winter', 13.6, 16.5),\n",
       " ('Cairo', 'Egypt', 'Spring', 20.7, 6.5),\n",
       " ('Cairo', 'Egypt', 'Summer', 27.7, 0.1),\n",
       " ('Cairo', 'Egypt', 'Fall', 22.2, 4.5)]"
      ]
     },
     "execution_count": 78,
     "metadata": {},
     "output_type": "execute_result"
    }
   ],
   "source": [
    "%%sql\n",
    "\n",
    "SELECT *\n",
    "FROM various_cities;"
   ]
  },
  {
   "cell_type": "markdown",
   "id": "e61e890f",
   "metadata": {},
   "source": [
    "<h2><font color='#004b87'>Question 8a SQL</font></h2>\n",
    "<p></p>\n",
    "<li>a) All the temperature data.</li>"
   ]
  },
  {
   "cell_type": "code",
   "execution_count": 79,
   "id": "d4ddf454",
   "metadata": {},
   "outputs": [
    {
     "name": "stdout",
     "output_type": "stream",
     "text": [
      " * sqlite://\n",
      "Done.\n"
     ]
    },
    {
     "data": {
      "text/html": [
       "<table>\n",
       "    <tr>\n",
       "        <th>Temperature</th>\n",
       "    </tr>\n",
       "    <tr>\n",
       "        <td>24.8</td>\n",
       "    </tr>\n",
       "    <tr>\n",
       "        <td>28.4</td>\n",
       "    </tr>\n",
       "    <tr>\n",
       "        <td>27.9</td>\n",
       "    </tr>\n",
       "    <tr>\n",
       "        <td>27.6</td>\n",
       "    </tr>\n",
       "    <tr>\n",
       "        <td>4.2</td>\n",
       "    </tr>\n",
       "    <tr>\n",
       "        <td>8.3</td>\n",
       "    </tr>\n",
       "    <tr>\n",
       "        <td>15.7</td>\n",
       "    </tr>\n",
       "    <tr>\n",
       "        <td>10.4</td>\n",
       "    </tr>\n",
       "    <tr>\n",
       "        <td>13.6</td>\n",
       "    </tr>\n",
       "    <tr>\n",
       "        <td>20.7</td>\n",
       "    </tr>\n",
       "    <tr>\n",
       "        <td>27.7</td>\n",
       "    </tr>\n",
       "    <tr>\n",
       "        <td>22.2</td>\n",
       "    </tr>\n",
       "</table>"
      ],
      "text/plain": [
       "[(24.8,),\n",
       " (28.4,),\n",
       " (27.9,),\n",
       " (27.6,),\n",
       " (4.2,),\n",
       " (8.3,),\n",
       " (15.7,),\n",
       " (10.4,),\n",
       " (13.6,),\n",
       " (20.7,),\n",
       " (27.7,),\n",
       " (22.2,)]"
      ]
     },
     "execution_count": 79,
     "metadata": {},
     "output_type": "execute_result"
    }
   ],
   "source": [
    "%%sql\n",
    "\n",
    "SELECT Temperature\n",
    "FROM various_cities;"
   ]
  },
  {
   "cell_type": "markdown",
   "id": "d434d714",
   "metadata": {},
   "source": [
    "<h2><font color='#004b87'>Question 8b SQL</font></h2>\n",
    "<p></p>\n",
    "<li>b) All the cities, but without repetition.</li>"
   ]
  },
  {
   "cell_type": "code",
   "execution_count": 80,
   "id": "719c18fd",
   "metadata": {},
   "outputs": [
    {
     "name": "stdout",
     "output_type": "stream",
     "text": [
      " * sqlite://\n",
      "Done.\n"
     ]
    },
    {
     "data": {
      "text/html": [
       "<table>\n",
       "    <tr>\n",
       "        <th>City</th>\n",
       "    </tr>\n",
       "    <tr>\n",
       "        <td>Mumbai</td>\n",
       "    </tr>\n",
       "    <tr>\n",
       "        <td>London</td>\n",
       "    </tr>\n",
       "    <tr>\n",
       "        <td>Cairo</td>\n",
       "    </tr>\n",
       "</table>"
      ],
      "text/plain": [
       "[('Mumbai',), ('London',), ('Cairo',)]"
      ]
     },
     "execution_count": 80,
     "metadata": {},
     "output_type": "execute_result"
    }
   ],
   "source": [
    "%%sql\n",
    "\n",
    "SELECT DISTINCT(city)\n",
    "FROM various_cities;"
   ]
  },
  {
   "cell_type": "markdown",
   "id": "7a04717c",
   "metadata": {},
   "source": [
    "<h2><font color='#004b87'>Question 8c SQL</font></h2>\n",
    "<p></p>\n",
    "<li>c) All the records for India.</li>"
   ]
  },
  {
   "cell_type": "code",
   "execution_count": 81,
   "id": "36843196",
   "metadata": {},
   "outputs": [
    {
     "name": "stdout",
     "output_type": "stream",
     "text": [
      " * sqlite://\n",
      "Done.\n"
     ]
    },
    {
     "data": {
      "text/html": [
       "<table>\n",
       "    <tr>\n",
       "        <th>City</th>\n",
       "        <th>Country</th>\n",
       "        <th>Season</th>\n",
       "        <th>Temperature</th>\n",
       "        <th>Rainfall</th>\n",
       "    </tr>\n",
       "    <tr>\n",
       "        <td>Mumbai</td>\n",
       "        <td>India</td>\n",
       "        <td>Winter</td>\n",
       "        <td>24.8</td>\n",
       "        <td>5.9</td>\n",
       "    </tr>\n",
       "    <tr>\n",
       "        <td>Mumbai</td>\n",
       "        <td>India</td>\n",
       "        <td>Spring</td>\n",
       "        <td>28.4</td>\n",
       "        <td>16.2</td>\n",
       "    </tr>\n",
       "    <tr>\n",
       "        <td>Mumbai</td>\n",
       "        <td>India</td>\n",
       "        <td>Summer</td>\n",
       "        <td>27.9</td>\n",
       "        <td>1549.4</td>\n",
       "    </tr>\n",
       "    <tr>\n",
       "        <td>Mumbai</td>\n",
       "        <td>India</td>\n",
       "        <td>Fall</td>\n",
       "        <td>27.6</td>\n",
       "        <td>346.0</td>\n",
       "    </tr>\n",
       "</table>"
      ],
      "text/plain": [
       "[('Mumbai', 'India', 'Winter', 24.8, 5.9),\n",
       " ('Mumbai', 'India', 'Spring', 28.4, 16.2),\n",
       " ('Mumbai', 'India', 'Summer', 27.9, 1549.4),\n",
       " ('Mumbai', 'India', 'Fall', 27.6, 346.0)]"
      ]
     },
     "execution_count": 81,
     "metadata": {},
     "output_type": "execute_result"
    }
   ],
   "source": [
    "%%sql\n",
    "\n",
    "SELECT *\n",
    "FROM various_cities\n",
    "WHERE country = 'India';"
   ]
  },
  {
   "cell_type": "markdown",
   "id": "e3a5c4fe",
   "metadata": {},
   "source": [
    "<h2><font color='#004b87'>Question 8d SQL</font></h2>\n",
    "<p></p>\n",
    "<li>d) All the Fall records.</li>"
   ]
  },
  {
   "cell_type": "code",
   "execution_count": 82,
   "id": "7d0cc7f5",
   "metadata": {},
   "outputs": [
    {
     "name": "stdout",
     "output_type": "stream",
     "text": [
      " * sqlite://\n",
      "Done.\n"
     ]
    },
    {
     "data": {
      "text/html": [
       "<table>\n",
       "    <tr>\n",
       "        <th>City</th>\n",
       "        <th>Country</th>\n",
       "        <th>Season</th>\n",
       "        <th>Temperature</th>\n",
       "        <th>Rainfall</th>\n",
       "    </tr>\n",
       "    <tr>\n",
       "        <td>Mumbai</td>\n",
       "        <td>India</td>\n",
       "        <td>Fall</td>\n",
       "        <td>27.6</td>\n",
       "        <td>346.0</td>\n",
       "    </tr>\n",
       "    <tr>\n",
       "        <td>London</td>\n",
       "        <td>United Kingdom</td>\n",
       "        <td>Fall</td>\n",
       "        <td>10.4</td>\n",
       "        <td>218.5</td>\n",
       "    </tr>\n",
       "    <tr>\n",
       "        <td>Cairo</td>\n",
       "        <td>Egypt</td>\n",
       "        <td>Fall</td>\n",
       "        <td>22.2</td>\n",
       "        <td>4.5</td>\n",
       "    </tr>\n",
       "</table>"
      ],
      "text/plain": [
       "[('Mumbai', 'India', 'Fall', 27.6, 346.0),\n",
       " ('London', 'United Kingdom', 'Fall', 10.4, 218.5),\n",
       " ('Cairo', 'Egypt', 'Fall', 22.2, 4.5)]"
      ]
     },
     "execution_count": 82,
     "metadata": {},
     "output_type": "execute_result"
    }
   ],
   "source": [
    "%%sql\n",
    "\n",
    "SELECT *\n",
    "FROM various_cities\n",
    "WHERE season = 'Fall';"
   ]
  },
  {
   "cell_type": "markdown",
   "id": "c9bb1338",
   "metadata": {},
   "source": [
    "<h2><font color='#004b87'>Question 8e SQL</font></h2>\n",
    "<p></p>\n",
    "<li>e) The city, country, and season for which the average rainfall is between 200 and 400 millimeters.</li>"
   ]
  },
  {
   "cell_type": "code",
   "execution_count": 83,
   "id": "9ee7cd98",
   "metadata": {},
   "outputs": [
    {
     "name": "stdout",
     "output_type": "stream",
     "text": [
      " * sqlite://\n",
      "Done.\n"
     ]
    },
    {
     "data": {
      "text/html": [
       "<table>\n",
       "    <tr>\n",
       "        <th>City</th>\n",
       "        <th>Country</th>\n",
       "        <th>Season</th>\n",
       "        <th>Rainfall</th>\n",
       "    </tr>\n",
       "    <tr>\n",
       "        <td>Mumbai</td>\n",
       "        <td>India</td>\n",
       "        <td>Fall</td>\n",
       "        <td>346.0</td>\n",
       "    </tr>\n",
       "    <tr>\n",
       "        <td>London</td>\n",
       "        <td>United Kingdom</td>\n",
       "        <td>Winter</td>\n",
       "        <td>207.7</td>\n",
       "    </tr>\n",
       "    <tr>\n",
       "        <td>London</td>\n",
       "        <td>United Kingdom</td>\n",
       "        <td>Fall</td>\n",
       "        <td>218.5</td>\n",
       "    </tr>\n",
       "</table>"
      ],
      "text/plain": [
       "[('Mumbai', 'India', 'Fall', 346.0),\n",
       " ('London', 'United Kingdom', 'Winter', 207.7),\n",
       " ('London', 'United Kingdom', 'Fall', 218.5)]"
      ]
     },
     "execution_count": 83,
     "metadata": {},
     "output_type": "execute_result"
    }
   ],
   "source": [
    "%%sql\n",
    "\n",
    "SELECT city, country, season, rainfall\n",
    "FROM various_cities\n",
    "WHERE rainfall BETWEEN 200 AND 400;"
   ]
  },
  {
   "cell_type": "markdown",
   "id": "f1665c6e",
   "metadata": {},
   "source": [
    "<h2><font color='#004b87'>Question 8f SQL</font></h2>\n",
    "<p></p>\n",
    "<li>f) The city and country for which the average Fall temperature is above 20 degrees, in increasing temperature order.</li>"
   ]
  },
  {
   "cell_type": "code",
   "execution_count": 84,
   "id": "8947e5f1",
   "metadata": {},
   "outputs": [
    {
     "name": "stdout",
     "output_type": "stream",
     "text": [
      " * sqlite://\n",
      "Done.\n"
     ]
    },
    {
     "data": {
      "text/html": [
       "<table>\n",
       "    <tr>\n",
       "        <th>City</th>\n",
       "        <th>Country</th>\n",
       "    </tr>\n",
       "    <tr>\n",
       "        <td>Cairo</td>\n",
       "        <td>Egypt</td>\n",
       "    </tr>\n",
       "    <tr>\n",
       "        <td>Mumbai</td>\n",
       "        <td>India</td>\n",
       "    </tr>\n",
       "</table>"
      ],
      "text/plain": [
       "[('Cairo', 'Egypt'), ('Mumbai', 'India')]"
      ]
     },
     "execution_count": 84,
     "metadata": {},
     "output_type": "execute_result"
    }
   ],
   "source": [
    "%%sql\n",
    "\n",
    "SELECT city, country\n",
    "FROM various_cities\n",
    "WHERE season = 'Fall' AND temperature > 20\n",
    "ORDER BY temperature ASC;"
   ]
  },
  {
   "cell_type": "markdown",
   "id": "617ac560",
   "metadata": {},
   "source": [
    "<h2><font color='#004b87'>Question 8g SQL</font></h2>\n",
    "<p></p>\n",
    "<li>g) The total annual rainfall for Cairo.</li>"
   ]
  },
  {
   "cell_type": "code",
   "execution_count": 85,
   "id": "ab760b62",
   "metadata": {},
   "outputs": [
    {
     "name": "stdout",
     "output_type": "stream",
     "text": [
      " * sqlite://\n",
      "Done.\n"
     ]
    },
    {
     "data": {
      "text/html": [
       "<table>\n",
       "    <tr>\n",
       "        <th>City</th>\n",
       "        <th>Total_Annual_Rainfall</th>\n",
       "    </tr>\n",
       "    <tr>\n",
       "        <td>Cairo</td>\n",
       "        <td>27.6</td>\n",
       "    </tr>\n",
       "</table>"
      ],
      "text/plain": [
       "[('Cairo', 27.6)]"
      ]
     },
     "execution_count": 85,
     "metadata": {},
     "output_type": "execute_result"
    }
   ],
   "source": [
    "%%sql\n",
    "\n",
    "SELECT city, sum(rainfall) AS Total_Annual_Rainfall\n",
    "FROM various_cities\n",
    "WHERE city = 'Cairo';"
   ]
  },
  {
   "cell_type": "markdown",
   "id": "4146b0f8",
   "metadata": {},
   "source": [
    "<h2><font color='#004b87'>Question 8h SQL</font></h2>\n",
    "<p></p>\n",
    "<li>h) The total rainfall for each season.</li>"
   ]
  },
  {
   "cell_type": "code",
   "execution_count": 86,
   "id": "bc1135b2",
   "metadata": {},
   "outputs": [
    {
     "name": "stdout",
     "output_type": "stream",
     "text": [
      " * sqlite://\n",
      "Done.\n"
     ]
    },
    {
     "data": {
      "text/html": [
       "<table>\n",
       "    <tr>\n",
       "        <th>Season</th>\n",
       "        <th>Total_Rainfall</th>\n",
       "    </tr>\n",
       "    <tr>\n",
       "        <td>Fall</td>\n",
       "        <td>570.0</td>\n",
       "    </tr>\n",
       "    <tr>\n",
       "        <td>Spring</td>\n",
       "        <td>193.0</td>\n",
       "    </tr>\n",
       "    <tr>\n",
       "        <td>Summer</td>\n",
       "        <td>1706.0</td>\n",
       "    </tr>\n",
       "    <tr>\n",
       "        <td>Winter</td>\n",
       "        <td>231.0</td>\n",
       "    </tr>\n",
       "</table>"
      ],
      "text/plain": [
       "[('Fall', 570.0), ('Spring', 193.0), ('Summer', 1706.0), ('Winter', 231.0)]"
      ]
     },
     "execution_count": 86,
     "metadata": {},
     "output_type": "execute_result"
    }
   ],
   "source": [
    "%%sql\n",
    "\n",
    "SELECT season, sum(round(rainfall)) AS Total_Rainfall\n",
    "FROM various_cities\n",
    "GROUP BY season;"
   ]
  },
  {
   "cell_type": "markdown",
   "id": "da6b9fd1",
   "metadata": {},
   "source": [
    "<h2><font color='#004b87'>Question 9 Python</font></h2>\n",
    "<p></p>\n",
    "<li>Suppose list words is defined as follows:</li>\n",
    "<li>>>> words = ['The', 'quick', 'brown', 'fox', 'jumps', 'over', 'the', 'lazy', 'dog']</li>\n",
    "\n",
    "<p>Write list comprehension expressions that use list words and generate the following lists:</p>"
   ]
  },
  {
   "cell_type": "code",
   "execution_count": 87,
   "id": "54f61f74",
   "metadata": {},
   "outputs": [
    {
     "name": "stdout",
     "output_type": "stream",
     "text": [
      "['THE', 'QUICK', 'BROWN', 'FOX', 'JUMPS', 'OVER', 'THE', 'LAZY', 'DOG']\n",
      "['the', 'quick', 'brown', 'fox', 'jumps', 'over', 'the', 'lazy', 'dog']\n",
      "[3, 5, 5, 3, 5, 4, 3, 4, 3]\n",
      "[['THE', 'the', 3], ['QUICK', 'quick', 5], ['BROWN', 'brown', 5], ['FOX', 'fox', 3], ['JUMPS', 'jumps', 5], ['OVER', 'over', 4], ['THE', 'the', 3], ['LAZY', 'lazy', 4], ['DOG', 'dog', 3]]\n",
      "['quick', 'brown', 'jumps', 'over', 'lazy']\n"
     ]
    }
   ],
   "source": [
    "# a) ['THE', 'QUICK', 'BROWN', 'FOX', 'JUMPS', 'OVER', 'THE', 'LAZY', 'DOG']\n",
    "\n",
    "words = ['The', 'quick', 'brown', 'fox', 'jumps', 'over', 'the', 'lazy', 'dog']\n",
    "listA = [x.upper() for x in words]\n",
    "print(listA)\n",
    "\n",
    "# b) ['the', 'quick', 'brown', 'fox', 'jumps', 'over', 'the', 'lazy', 'dog']\n",
    "\n",
    "listB = [x.lower() for x in words]\n",
    "print(listB)\n",
    "\n",
    "# c) [3, 5, 5, 3, 5, 4, 3, 4, 3] (the list of lengths of words in list words).\n",
    "\n",
    "listC = [len(x) for x in words]\n",
    "print(listC)\n",
    "\n",
    "# d) [['THE', 'the', 3], ['QUICK', 'quick', 5], ['BROWN', 'brown', 5], ['FOX', 'fox', 3], ['JUMPS', 'jumps', 5],\n",
    "# ['OVER', 'over', 4], ['THE', 'the', 3], ['LAZY', 'lazy', 4], ['DOG', 'dog', 3]]\n",
    "\n",
    "# (the list containing a list for every word of list words, where each list contains the word in uppercase and lowercase\n",
    "# and the length of the word.)\n",
    "\n",
    "listD = [[x.upper(), x.lower(), len(x)] for x in words]\n",
    "print(listD)\n",
    "\n",
    "# e) ['The', 'quick', 'brown', 'fox', 'jumps', 'over', 'the', 'lazy', 'dog']\n",
    "\n",
    "# (the list of words in list words containing 4 or more characters.)\n",
    "\n",
    "listE = [x for x in words if len(x) >= 4]\n",
    "print(listE)\n",
    "\n",
    "# Please note: in the PDF, it shows a lot more words, but the only words with 4 or more characters are the ones in my\n",
    "# output (\"quick\", \"brown\", \"jumps\", \"over\", \"lazy\")"
   ]
  },
  {
   "cell_type": "code",
   "execution_count": 2,
   "id": "5cd2c864",
   "metadata": {},
   "outputs": [],
   "source": [
    "%load_ext sql"
   ]
  },
  {
   "cell_type": "code",
   "execution_count": 3,
   "id": "c197cdc8",
   "metadata": {},
   "outputs": [],
   "source": [
    "%sql sqlite://"
   ]
  }
 ],
 "metadata": {
  "kernelspec": {
   "display_name": "Python 3",
   "language": "python",
   "name": "python3"
  },
  "language_info": {
   "codemirror_mode": {
    "name": "ipython",
    "version": 3
   },
   "file_extension": ".py",
   "mimetype": "text/x-python",
   "name": "python",
   "nbconvert_exporter": "python",
   "pygments_lexer": "ipython3",
   "version": "3.8.8"
  }
 },
 "nbformat": 4,
 "nbformat_minor": 5
}
